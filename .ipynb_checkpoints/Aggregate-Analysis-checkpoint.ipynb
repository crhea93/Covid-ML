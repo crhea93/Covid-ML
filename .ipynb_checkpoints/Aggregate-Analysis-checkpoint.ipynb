{
 "cells": [
  {
   "cell_type": "markdown",
   "metadata": {},
   "source": [
    "# Aggregate Random Forest Analysis\n",
    "Since random forests are randomized by nature of the algorithm, we will be applying a random forest several times (100) to try and determine the actual importance of individual features"
   ]
  },
  {
   "cell_type": "code",
   "execution_count": 1,
   "metadata": {},
   "outputs": [],
   "source": [
    "import pandas as pd\n",
    "from sklearn.ensemble import RandomForestClassifier\n",
    "import numpy as np\n",
    "import matplotlib.pyplot as plt\n",
    "from sklearn.metrics import classification_report, f1_score"
   ]
  },
  {
   "cell_type": "code",
   "execution_count": 2,
   "metadata": {},
   "outputs": [],
   "source": [
    "africa = pd.read_csv('africa-ML_20-12-30.csv')\n",
    "africa = africa.dropna('columns')\n",
    "labels = africa['sahoStatusEHA']\n",
    "data = africa.drop(columns=['sahoStatusEHA', 'country', 'tempDiffS', 'christCountry', 'cumCasesLag1', 'cumCasesLag1P100KC', 'cumDeathsLag1', 'ebolaCasesN', 'gdpPerCap', 'geoDiffXdayNum', 'medDocsN']).select_dtypes(['number'])\n",
    "\n",
    "train_num = 40\n",
    "\n",
    "training_data = data[0:train_num]\n",
    "training_labels = list(labels[0:train_num])\n",
    "\n",
    "test_data = data[train_num:]\n",
    "test_labels = list(labels[train_num:])"
   ]
  },
  {
   "cell_type": "code",
   "execution_count": null,
   "metadata": {},
   "outputs": [],
   "source": [
    "feature_importance = {}\n",
    "for i in np.arange(10000):\n",
    "    rf = RandomForestClassifier(n_estimators = 20, max_depth=5, criterion='entropy')\n",
    "    rf.fit(training_data, training_labels)\n",
    "    predictions = rf.predict(test_data)\n",
    "    # Collect 10 most important features\n",
    "    importance = pd.DataFrame({'feature': training_data.columns, 'importance': np.round(rf.feature_importances_, 3)})\n",
    "    importance.sort_values('importance', ascending=False, inplace=True)\n",
    "    importance = importance[:10]\n",
    "    # Assign values to dictionary\n",
    "    for imp in importance.values:\n",
    "        if imp[0] not in feature_importance.keys():\n",
    "            # If the key is not already there then add it\n",
    "            feature_importance[imp[0]] = [imp[1]]\n",
    "        else:\n",
    "            feature_importance[imp[0]].append(imp[1])"
   ]
  },
  {
   "cell_type": "code",
   "execution_count": null,
   "metadata": {},
   "outputs": [],
   "source": [
    "feature_importance_df = pd.DataFrame.from_dict(feature_importance, orient='index')\n",
    "final_features = feature_importance_df.agg(['mean', 'std', 'sem'], axis=1).sort_values('mean', ascending=False)\n",
    "final_features['95-conf'] = 1.96*final_features['std']"
   ]
  },
  {
   "cell_type": "code",
   "execution_count": null,
   "metadata": {},
   "outputs": [],
   "source": [
    "with plt.xkcd():\n",
    "    fig = plt.figure(figsize=(14,8))\n",
    "    plt.errorbar(final_features.index, 'mean', yerr='95-conf', data=final_features, fmt='o')\n",
    "    #plt.xticks(rotation=-60)\n",
    "    fig.autofmt_xdate()\n",
    "    plt.xlabel('Feature Name', size='xx-large', fontname='Comic Sans MS')\n",
    "    plt.ylabel('Importance of Feature (%)', size='xx-large', fontname='Comic Sans MS')\n",
    "    plt.show()"
   ]
  },
  {
   "cell_type": "markdown",
   "metadata": {},
   "source": [
    "# Without DayNum"
   ]
  },
  {
   "cell_type": "code",
   "execution_count": null,
   "metadata": {},
   "outputs": [],
   "source": [
    "data = africa.drop(columns=['sahoStatusEHA', 'dayNum', 'country', 'tempDiffS', 'christCountry', 'cumCasesLag1', 'cumCasesLag1P100KC', 'cumDeathsLag1', 'ebolaCasesN', 'gdpPerCap', 'geoDiffXdayNum', 'medDocsN']).select_dtypes(['number'])\n",
    "\n",
    "train_num = 40\n",
    "\n",
    "training_data = data[0:train_num]\n",
    "training_labels = list(labels[0:train_num])\n",
    "\n",
    "test_data = data[train_num:]\n",
    "test_labels = list(labels[train_num:])"
   ]
  },
  {
   "cell_type": "code",
   "execution_count": null,
   "metadata": {},
   "outputs": [],
   "source": [
    "feature_importance = {}\n",
    "for i in np.arange(10000):\n",
    "    rf = RandomForestClassifier(n_estimators = 20, max_depth=5, criterion='entropy')\n",
    "    rf.fit(training_data, training_labels)\n",
    "    predictions = rf.predict(test_data)\n",
    "    # Collect 10 most important features\n",
    "    importance = pd.DataFrame({'feature': training_data.columns, 'importance': np.round(rf.feature_importances_, 3)})\n",
    "    importance.sort_values('importance', ascending=False, inplace=True)\n",
    "    importance = importance[:10]\n",
    "    # Assign values to dictionary\n",
    "    for imp in importance.values:\n",
    "        if imp[0] not in feature_importance.keys():\n",
    "            # If the key is not already there then add it\n",
    "            feature_importance[imp[0]] = [imp[1]]\n",
    "        else:\n",
    "            feature_importance[imp[0]].append(imp[1])"
   ]
  },
  {
   "cell_type": "code",
   "execution_count": null,
   "metadata": {},
   "outputs": [],
   "source": [
    "feature_importance_df = pd.DataFrame.from_dict(feature_importance, orient='index')\n",
    "final_features = feature_importance_df.agg(['mean', 'std', 'sem'], axis=1).sort_values('mean', ascending=False)\n",
    "final_features['95-conf'] = 1.96*final_features['std']"
   ]
  },
  {
   "cell_type": "code",
   "execution_count": null,
   "metadata": {},
   "outputs": [],
   "source": [
    "with plt.xkcd():\n",
    "    fig = plt.figure(figsize=(14,8))\n",
    "    plt.errorbar(final_features.index, 'mean', yerr='95-conf', data=final_features, fmt='o')\n",
    "    #plt.xticks(rotation=-60)\n",
    "    fig.autofmt_xdate()\n",
    "    plt.xlabel('Feature Name', size='xx-large', fontname='Comic Sans MS')\n",
    "    plt.ylabel('Importance of Feature (%)', size='xx-large', fontname='Comic Sans MS')\n",
    "    plt.show()"
   ]
  },
  {
   "cell_type": "code",
   "execution_count": null,
   "metadata": {},
   "outputs": [],
   "source": []
  }
 ],
 "metadata": {
  "kernelspec": {
   "display_name": "Python 3",
   "language": "python",
   "name": "python3"
  },
  "language_info": {
   "codemirror_mode": {
    "name": "ipython",
    "version": 3
   },
   "file_extension": ".py",
   "mimetype": "text/x-python",
   "name": "python",
   "nbconvert_exporter": "python",
   "pygments_lexer": "ipython3",
   "version": "3.8.5"
  }
 },
 "nbformat": 4,
 "nbformat_minor": 4
}
