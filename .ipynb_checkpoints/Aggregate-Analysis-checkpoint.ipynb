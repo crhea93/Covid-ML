{
 "cells": [
  {
   "cell_type": "markdown",
   "metadata": {},
   "source": [
    "# Aggregate Random Forest Analysis\n",
    "Since random forests are randomized by nature of the algorithm, we will be applying a random forest several times (100) to try and determine the actual importance of individual features"
   ]
  },
  {
   "cell_type": "code",
   "execution_count": 1,
   "metadata": {},
   "outputs": [],
   "source": [
    "import pandas as pd\n",
    "from sklearn.ensemble import RandomForestClassifier\n",
    "import numpy as np\n",
    "import matplotlib.pyplot as plt\n",
    "from sklearn.metrics import classification_report, f1_score\n",
    "import sklearn"
   ]
  },
  {
   "cell_type": "code",
   "execution_count": 17,
   "metadata": {},
   "outputs": [
    {
     "name": "stderr",
     "output_type": "stream",
     "text": [
      "<ipython-input-17-392a5e4d8ddf>:2: FutureWarning: In a future version of pandas all arguments of DataFrame.dropna will be keyword-only.\n",
      "  africa = africa.dropna('columns')\n"
     ]
    }
   ],
   "source": [
    "africa = pd.read_csv('africa-ML-54_21-03-11.csv')\n",
    "africa = africa.dropna('columns')\n",
    "africa=sklearn.utils.shuffle(africa)\n",
    "labels = africa['sahoStatusEHA']\n",
    "data = africa.drop(columns=['dayNum', 'tempDiffS', 'tempDiff66','sahoStatusEHA', 'country', 'christCountry', 'cumCasesLag1', 'cumCasesLag1P100KC', 'cumDeathsLag1', 'ebolaCasesN', 'gdpPerCap', 'medDocsN']).select_dtypes(['number'])\n",
    "#data = data.sample()\n",
    "train_num = 40\n",
    "\n",
    "\n",
    "training_data = data[0:train_num]\n",
    "training_labels = list(labels[0:train_num])\n",
    "\n",
    "test_data = data[train_num:]\n",
    "test_labels = list(labels[train_num:])"
   ]
  },
  {
   "cell_type": "code",
   "execution_count": 18,
   "metadata": {},
   "outputs": [
    {
     "name": "stderr",
     "output_type": "stream",
     "text": [
      "<ipython-input-18-be63ba28eed5>:1: VisibleDeprecationWarning: Creating an ndarray from ragged nested sequences (which is a list-or-tuple of lists-or-tuples-or ndarrays with different lengths or shapes) is deprecated. If you meant to do this, you must specify 'dtype=object' when creating the ndarray.\n",
      "  plt.hist(np.array([training_labels, test_labels]) , 3,  histtype='bar', label=['training', 'test'])\n"
     ]
    },
    {
     "data": {
      "text/plain": [
       "<matplotlib.legend.Legend at 0x7effe7bab0a0>"
      ]
     },
     "execution_count": 18,
     "metadata": {},
     "output_type": "execute_result"
    },
    {
     "data": {
      "image/png": "[encoded data removed]",
      "text/plain": [
       "<Figure size 432x288 with 1 Axes>"
      ]
     },
     "metadata": {
      "needs_background": "light"
     },
     "output_type": "display_data"
    }
   ],
   "source": [
    "plt.hist(np.array([training_labels, test_labels]) , 3,  histtype='bar', label=['training', 'test'])\n",
    "plt.legend()"
   ]
  },
  {
   "cell_type": "code",
   "execution_count": null,
   "metadata": {},
   "outputs": [],
   "source": [
    "feature_importance = {}\n",
    "for i in np.arange(1000):\n",
    "    rf = RandomForestClassifier(n_estimators = 50, max_depth=30, criterion='entropy')\n",
    "    rf.fit(training_data, training_labels)\n",
    "    predictions = rf.predict(test_data)\n",
    "    # Collect the most important features\n",
    "    importance = pd.DataFrame({'feature': training_data.columns, 'importance': np.round(rf.feature_importances_, 3)})\n",
    "    importance.sort_values('importance', ascending=False, inplace=True)\n",
    "    importance = importance[:10]\n",
    "    # Assign values to dictionary\n",
    "    for imp in importance.values:\n",
    "        if imp[0] not in feature_importance.keys():\n",
    "            # If the key is not already there then add it\n",
    "            feature_importance[imp[0]] = [imp[1]]\n",
    "        else:\n",
    "            feature_importance[imp[0]].append(imp[1])"
   ]
  },
  {
   "cell_type": "code",
   "execution_count": null,
   "metadata": {},
   "outputs": [],
   "source": [
    "feature_importance_df = pd.DataFrame.from_dict(feature_importance, orient='index')\n",
    "final_features = feature_importance_df.agg(['mean', 'std', 'sem'], axis=1).sort_values('mean', ascending=False)[:20]\n",
    "final_features['95-conf'] = 1.96*final_features['sem']\n",
    "final_features['99-conf'] = 3*final_features['sem']\n",
    "\n",
    "#print(final_features)"
   ]
  },
  {
   "cell_type": "code",
   "execution_count": null,
   "metadata": {
    "scrolled": true,
    "tags": []
   },
   "outputs": [],
   "source": [
    "final_features"
   ]
  },
  {
   "cell_type": "code",
   "execution_count": null,
   "metadata": {},
   "outputs": [],
   "source": [
    "#with plt.xkcd():\n",
    "fig = plt.figure(figsize=(20,8))\n",
    "plt.errorbar(final_features.index, 'mean', yerr='std', data=final_features, fmt='o', ms=10)\n",
    "#plt.xticks(rotation=-60)\n",
    "fig.autofmt_xdate()\n",
    "plt.xticks(fontsize=14)\n",
    "plt.yticks(fontsize=14)\n",
    "plt.xlabel('Feature Name', fontsize=25)\n",
    "plt.ylabel('Importance of Feature (%)', fontsize=25)\n",
    "#plt.savefig('Feature-Importance.png')"
   ]
  },
  {
   "cell_type": "code",
   "execution_count": null,
   "metadata": {},
   "outputs": [],
   "source": [
    "feature_importance.keys()"
   ]
  },
  {
   "cell_type": "code",
   "execution_count": null,
   "metadata": {},
   "outputs": [],
   "source": [
    "final_used_features = list(feature_importance.keys())[:10]\n",
    "\n",
    "rf = RandomForestClassifier(n_estimators = 50, max_depth=30, criterion='entropy')\n",
    "rf.fit(training_data[final_used_features], training_labels)\n",
    "\n",
    "\n",
    "predictions = rf.predict(test_data[final_used_features])\n",
    "print(classification_report(test_labels, predictions, labels=list(set(test_labels))))"
   ]
  }
 ],
 "metadata": {
  "kernelspec": {
   "display_name": "Python 3",
   "language": "python",
   "name": "python3"
  },
  "language_info": {
   "codemirror_mode": {
    "name": "ipython",
    "version": 3
   },
   "file_extension": ".py",
   "mimetype": "text/x-python",
   "name": "python",
   "nbconvert_exporter": "python",
   "pygments_lexer": "ipython3",
   "version": "3.9.5"
  }
 },
 "nbformat": 4,
 "nbformat_minor": 4
}
