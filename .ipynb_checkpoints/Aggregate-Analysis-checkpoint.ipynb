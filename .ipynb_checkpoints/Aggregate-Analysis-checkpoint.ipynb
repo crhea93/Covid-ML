{
 "cells": [
  {
   "cell_type": "markdown",
   "metadata": {},
   "source": [
    "# Aggregate Random Forest Analysis\n",
    "Since random forests are randomized by nature of the algorithm, we will be applying a random forest several times (100) to try and determine the actual importance of individual features"
   ]
  },
  {
   "cell_type": "code",
   "execution_count": 3,
   "metadata": {},
   "outputs": [],
   "source": [
    "import pandas as pd\n",
    "from sklearn.ensemble import RandomForestClassifier\n",
    "import numpy as np\n",
    "import matplotlib.pyplot as plt\n",
    "from sklearn.metrics import classification_report, f1_score\n",
    "import sklearn"
   ]
  },
  {
   "cell_type": "code",
   "execution_count": 35,
   "metadata": {},
   "outputs": [],
   "source": [
    "africa = pd.read_csv('africa-ML-54_21-03-11.csv')\n",
    "africa = africa.dropna('columns')\n",
    "africa=sklearn.utils.shuffle(africa)\n",
    "labels = africa['sahoStatusEHA']\n",
    "data = africa.drop(columns=['dayNum', 'tempDiffS', 'tempDiff66','sahoStatusEHA', 'country', 'christCountry', 'cumCasesLag1', 'cumCasesLag1P100KC', 'cumDeathsLag1', 'ebolaCasesN', 'gdpPerCap', 'medDocsN']).select_dtypes(['number'])\n",
    "#data = data.sample()\n",
    "train_num = 40\n",
    "\n",
    "\n",
    "training_data = data[0:train_num]\n",
    "training_labels = list(labels[0:train_num])\n",
    "\n",
    "test_data = data[train_num:]\n",
    "test_labels = list(labels[train_num:])"
   ]
  },
  {
   "cell_type": "code",
   "execution_count": 36,
   "metadata": {},
   "outputs": [
    {
     "name": "stderr",
     "output_type": "stream",
     "text": [
      "<ipython-input-36-be63ba28eed5>:1: VisibleDeprecationWarning: Creating an ndarray from ragged nested sequences (which is a list-or-tuple of lists-or-tuples-or ndarrays with different lengths or shapes) is deprecated. If you meant to do this, you must specify 'dtype=object' when creating the ndarray\n",
      "  plt.hist(np.array([training_labels, test_labels]) , 3,  histtype='bar', label=['training', 'test'])\n"
     ]
    },
    {
     "data": {
      "text/plain": [
       "<matplotlib.legend.Legend at 0x7f1012153580>"
      ]
     },
     "execution_count": 36,
     "metadata": {},
     "output_type": "execute_result"
    },
    {
     "data": {
      "image/png": "[encoded data removed]",
      "text/plain": [
       "<Figure size 432x288 with 1 Axes>"
      ]
     },
     "metadata": {
      "needs_background": "light"
     },
     "output_type": "display_data"
    }
   ],
   "source": [
    "plt.hist(np.array([training_labels, test_labels]) , 3,  histtype='bar', label=['training', 'test'])\n",
    "plt.legend()"
   ]
  },
  {
   "cell_type": "code",
   "execution_count": 126,
   "metadata": {},
   "outputs": [],
   "source": [
    "feature_importance = {}\n",
    "for i in np.arange(1000):\n",
    "    rf = RandomForestClassifier(n_estimators = 50, max_depth=5, criterion='entropy')\n",
    "    rf.fit(training_data, training_labels)\n",
    "    predictions = rf.predict(test_data)\n",
    "    # Collect the most important features\n",
    "    importance = pd.DataFrame({'feature': training_data.columns, 'importance': np.round(rf.feature_importances_, 3)})\n",
    "    importance.sort_values('importance', ascending=False, inplace=True)\n",
    "    importance = importance[:10]\n",
    "    # Assign values to dictionary\n",
    "    for imp in importance.values:\n",
    "        if imp[0] not in feature_importance.keys():\n",
    "            # If the key is not already there then add it\n",
    "            feature_importance[imp[0]] = [imp[1]]\n",
    "        else:\n",
    "            feature_importance[imp[0]].append(imp[1])"
   ]
  },
  {
   "cell_type": "code",
   "execution_count": 184,
   "metadata": {},
   "outputs": [],
   "source": [
    "feature_importance_df = pd.DataFrame.from_dict(feature_importance, orient='index')\n",
    "final_features = feature_importance_df.agg(['mean', 'std', 'sem'], axis=1).sort_values('mean', ascending=False)[:10]\n",
    "final_features['95-conf'] = 1.96*final_features['sem']\n",
    "final_features['99-conf'] = 3*final_features['sem']\n",
    "\n",
    "#print(final_features)"
   ]
  },
  {
   "cell_type": "code",
   "execution_count": 195,
   "metadata": {},
   "outputs": [
    {
     "data": {
      "text/html": [
       "<div>\n",
       "<style scoped>\n",
       "    .dataframe tbody tr th:only-of-type {\n",
       "        vertical-align: middle;\n",
       "    }\n",
       "\n",
       "    .dataframe tbody tr th {\n",
       "        vertical-align: top;\n",
       "    }\n",
       "\n",
       "    .dataframe thead th {\n",
       "        text-align: right;\n",
       "    }\n",
       "</style>\n",
       "<table border=\"1\" class=\"dataframe\">\n",
       "  <thead>\n",
       "    <tr style=\"text-align: right;\">\n",
       "      <th></th>\n",
       "      <th>mean</th>\n",
       "      <th>std</th>\n",
       "      <th>sem</th>\n",
       "      <th>95-conf</th>\n",
       "      <th>99-conf</th>\n",
       "    </tr>\n",
       "  </thead>\n",
       "  <tbody>\n",
       "    <tr>\n",
       "      <th>tempDiffSunfitted</th>\n",
       "      <td>0.105608</td>\n",
       "      <td>0.026012</td>\n",
       "      <td>0.000823</td>\n",
       "      <td>0.001612</td>\n",
       "      <td>0.002468</td>\n",
       "    </tr>\n",
       "    <tr>\n",
       "      <th>prevAdopt</th>\n",
       "      <td>0.046226</td>\n",
       "      <td>0.014190</td>\n",
       "      <td>0.000464</td>\n",
       "      <td>0.000910</td>\n",
       "      <td>0.001392</td>\n",
       "    </tr>\n",
       "    <tr>\n",
       "      <th>casesMD</th>\n",
       "      <td>0.031534</td>\n",
       "      <td>0.008072</td>\n",
       "      <td>0.000353</td>\n",
       "      <td>0.000693</td>\n",
       "      <td>0.001060</td>\n",
       "    </tr>\n",
       "    <tr>\n",
       "      <th>envMort</th>\n",
       "      <td>0.030939</td>\n",
       "      <td>0.007852</td>\n",
       "      <td>0.000348</td>\n",
       "      <td>0.000682</td>\n",
       "      <td>0.001044</td>\n",
       "    </tr>\n",
       "    <tr>\n",
       "      <th>ciaRefPetrolProdsImports</th>\n",
       "      <td>0.030460</td>\n",
       "      <td>0.007505</td>\n",
       "      <td>0.000338</td>\n",
       "      <td>0.000663</td>\n",
       "      <td>0.001014</td>\n",
       "    </tr>\n",
       "    <tr>\n",
       "      <th>ICREGDURS</th>\n",
       "      <td>0.029865</td>\n",
       "      <td>0.006253</td>\n",
       "      <td>0.000294</td>\n",
       "      <td>0.000576</td>\n",
       "      <td>0.000882</td>\n",
       "    </tr>\n",
       "    <tr>\n",
       "      <th>ciaElectyOthRenew</th>\n",
       "      <td>0.029379</td>\n",
       "      <td>0.006278</td>\n",
       "      <td>0.000317</td>\n",
       "      <td>0.000622</td>\n",
       "      <td>0.000952</td>\n",
       "    </tr>\n",
       "    <tr>\n",
       "      <th>newCases</th>\n",
       "      <td>0.028928</td>\n",
       "      <td>0.006266</td>\n",
       "      <td>0.000395</td>\n",
       "      <td>0.000775</td>\n",
       "      <td>0.001186</td>\n",
       "    </tr>\n",
       "    <tr>\n",
       "      <th>nonComDis</th>\n",
       "      <td>0.028647</td>\n",
       "      <td>0.006099</td>\n",
       "      <td>0.000338</td>\n",
       "      <td>0.000662</td>\n",
       "      <td>0.001013</td>\n",
       "    </tr>\n",
       "    <tr>\n",
       "      <th>ciaPublicDebt</th>\n",
       "      <td>0.028121</td>\n",
       "      <td>0.005671</td>\n",
       "      <td>0.000320</td>\n",
       "      <td>0.000626</td>\n",
       "      <td>0.000959</td>\n",
       "    </tr>\n",
       "  </tbody>\n",
       "</table>\n",
       "</div>"
      ],
      "text/plain": [
       "                              mean       std       sem   95-conf   99-conf\n",
       "tempDiffSunfitted         0.105608  0.026012  0.000823  0.001612  0.002468\n",
       "prevAdopt                 0.046226  0.014190  0.000464  0.000910  0.001392\n",
       "casesMD                   0.031534  0.008072  0.000353  0.000693  0.001060\n",
       "envMort                   0.030939  0.007852  0.000348  0.000682  0.001044\n",
       "ciaRefPetrolProdsImports  0.030460  0.007505  0.000338  0.000663  0.001014\n",
       "ICREGDURS                 0.029865  0.006253  0.000294  0.000576  0.000882\n",
       "ciaElectyOthRenew         0.029379  0.006278  0.000317  0.000622  0.000952\n",
       "newCases                  0.028928  0.006266  0.000395  0.000775  0.001186\n",
       "nonComDis                 0.028647  0.006099  0.000338  0.000662  0.001013\n",
       "ciaPublicDebt             0.028121  0.005671  0.000320  0.000626  0.000959"
      ]
     },
     "execution_count": 195,
     "metadata": {},
     "output_type": "execute_result"
    }
   ],
   "source": [
    "final_features"
   ]
  },
  {
   "cell_type": "code",
   "execution_count": 185,
   "metadata": {},
   "outputs": [
    {
     "data": {
      "text/plain": [
       "Text(0, 0.5, 'Importance of Feature (%)')"
      ]
     },
     "execution_count": 185,
     "metadata": {},
     "output_type": "execute_result"
    },
    {
     "data": {
      "image/png": "[encoded data removed]",
      "text/plain": [
       "<Figure size 1440x576 with 1 Axes>"
      ]
     },
     "metadata": {
      "needs_background": "light"
     },
     "output_type": "display_data"
    }
   ],
   "source": [
    "#with plt.xkcd():\n",
    "fig = plt.figure(figsize=(20,8))\n",
    "plt.errorbar(final_features.index, 'mean', yerr='std', data=final_features, fmt='o', ms=10)\n",
    "#plt.xticks(rotation=-60)\n",
    "fig.autofmt_xdate()\n",
    "plt.xticks(fontsize=14)\n",
    "plt.yticks(fontsize=14)\n",
    "plt.xlabel('Feature Name', fontsize=25)\n",
    "plt.ylabel('Importance of Feature (%)', fontsize=25)\n",
    "#plt.savefig('Feature-Importance.png')"
   ]
  },
  {
   "cell_type": "code",
   "execution_count": 199,
   "metadata": {},
   "outputs": [
    {
     "data": {
      "text/plain": [
       "dict_keys(['tempDiffSunfitted', 'ciaInternetUsers', 'envMort', 'matMort', 'ciaElectyOthRenew', 'ICREGDURS', 'christPct', 'prevAdopt', 'ciaArea', 'comDis', 'ciaPublicDebt', 'ITNETUSERZS', 'gdpPerCapLn', 'ciaInflationRateConsPrices', 'SHDYNMORT', 'ITCELSETSP2', 'ciaCarbDioxEmsCons', 'firstDeath', 'WespHvyIndbt', 'ciaRefdPetrolProdsConsump', 'ciaDeathRate', 'ciaRefPetrolProdsImports', 'ciaPhonesFixed', 'urbanPop', 'nonComDis', 'casesMD', 'IPJRNARTCSC', 'ciaExports', 'inflation', 'newCases', 'ciaBirthRate', 'ENATMPM25MCM3', 'ciaNetMigrationRate', 'ciaElectyConsump', 'elect2020postponed', 'ciaPopulation', 'ciaMedianAge', 'ciaElectyFossilFuels', 'ciaBudgetSurplusDeficit', 'deathsMD', 'ciaPopGrowRate', 'ciaInfantMortalityRate', 'ciaLifeExpectancyAtBirth', 'SGGENPARLZS', 'muslimPct', 'popDen', 'ciaTotalFertilityRate', 'ciaGDPPerCapitaPPP', 'ciaGDPRealGrowthRate', 'ciaTaxesOtherRevenues', 'netMigration', 'govEffInd', 'ciaImports', 'ciaObesityAdultPrevRate', 'ciaElectyImports', 'vacCov', 'elect2020', 'ciaElectyProduction', 'ebolaCasesDum', 'ciaPhonesMobile', 'ciaCrudeOilProvedReserves', 'ciaElectyInstallGenCap', 'ciaNatGasProvResvs', 'ciaElectyExports', 'cumDeathsLag1P100KC', 'population', 'ciaElectyHydroPlants', 'nNeighbors', 'geoDiff', 'ciaReservesForeignExchangeGold', 'ciaCurrentAcctBalance', 'ciaRefPetrolProdExports', 'firstCase', 'ciaRefinedPetrolProductsProd', 'ciaNatGasConsum'])"
      ]
     },
     "execution_count": 199,
     "metadata": {},
     "output_type": "execute_result"
    }
   ],
   "source": [
    "feature_importance.keys()"
   ]
  },
  {
   "cell_type": "code",
   "execution_count": 277,
   "metadata": {},
   "outputs": [
    {
     "name": "stdout",
     "output_type": "stream",
     "text": [
      "              precision    recall  f1-score   support\n",
      "\n",
      "        saho       1.00      0.50      0.67         8\n",
      "        open       0.60      1.00      0.75         6\n",
      "\n",
      "    accuracy                           0.71        14\n",
      "   macro avg       0.80      0.75      0.71        14\n",
      "weighted avg       0.83      0.71      0.70        14\n",
      "\n"
     ]
    }
   ],
   "source": [
    "final_used_features = list(feature_importance.keys())[:10]\n",
    "\n",
    "rf = RandomForestClassifier(n_estimators = 50, max_depth=30, criterion='entropy')\n",
    "rf.fit(training_data[final_used_features], training_labels)\n",
    "\n",
    "\n",
    "predictions = rf.predict(test_data[final_used_features])\n",
    "print(classification_report(test_labels, predictions, labels=list(set(test_labels))))"
   ]
  },
  {
   "cell_type": "markdown",
   "metadata": {},
   "source": [
    "# Without tempDiffS"
   ]
  },
  {
   "cell_type": "code",
   "execution_count": null,
   "metadata": {},
   "outputs": [],
   "source": [
    "print(classification_report(test_labels, predictions, labels=list(set(test_labels))))"
   ]
  },
  {
   "cell_type": "code",
   "execution_count": null,
   "metadata": {},
   "outputs": [],
   "source": []
  }
 ],
 "metadata": {
  "kernelspec": {
   "display_name": "Python 3",
   "language": "python",
   "name": "python3"
  },
  "language_info": {
   "codemirror_mode": {
    "name": "ipython",
    "version": 3
   },
   "file_extension": ".py",
   "mimetype": "text/x-python",
   "name": "python",
   "nbconvert_exporter": "python",
   "pygments_lexer": "ipython3",
   "version": "3.8.5"
  }
 },
 "nbformat": 4,
 "nbformat_minor": 4
}
