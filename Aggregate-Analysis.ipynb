{
 "cells": [
  {
   "cell_type": "markdown",
   "metadata": {},
   "source": [
    "# Aggregate Random Forest Analysis\n",
    "Since random forests are randomized by nature of the algorithm, we will be applying a random forest several times (100) to try and determine the actual importance of individual features"
   ]
  },
  {
   "cell_type": "code",
   "execution_count": 1,
   "metadata": {},
   "outputs": [],
   "source": [
    "import pandas as pd\n",
    "from sklearn.ensemble import RandomForestClassifier\n",
    "import numpy as np\n",
    "import matplotlib.pyplot as plt\n",
    "from sklearn.metrics import classification_report, f1_score\n",
    "import sklearn"
   ]
  },
  {
   "cell_type": "code",
   "execution_count": 2,
   "metadata": {},
   "outputs": [
    {
     "name": "stderr",
     "output_type": "stream",
     "text": [
      "<ipython-input-2-392a5e4d8ddf>:2: FutureWarning: In a future version of pandas all arguments of DataFrame.dropna will be keyword-only.\n",
      "  africa = africa.dropna('columns')\n"
     ]
    }
   ],
   "source": [
    "africa = pd.read_csv('africa-ML-54_21-03-11.csv')\n",
    "africa = africa.dropna('columns')\n",
    "africa=sklearn.utils.shuffle(africa)\n",
    "labels = africa['sahoStatusEHA']\n",
    "data = africa.drop(columns=['dayNum', 'tempDiffS', 'tempDiff66','sahoStatusEHA', 'country', 'christCountry', 'cumCasesLag1', 'cumCasesLag1P100KC', 'cumDeathsLag1', 'ebolaCasesN', 'gdpPerCap', 'medDocsN']).select_dtypes(['number'])\n",
    "#data = data.sample()\n",
    "train_num = 40\n",
    "\n",
    "\n",
    "training_data = data[0:train_num]\n",
    "training_labels = list(labels[0:train_num])\n",
    "\n",
    "test_data = data[train_num:]\n",
    "test_labels = list(labels[train_num:])"
   ]
  },
  {
   "cell_type": "code",
   "execution_count": 3,
   "metadata": {},
   "outputs": [
    {
     "name": "stderr",
     "output_type": "stream",
     "text": [
      "<ipython-input-3-be63ba28eed5>:1: VisibleDeprecationWarning: Creating an ndarray from ragged nested sequences (which is a list-or-tuple of lists-or-tuples-or ndarrays with different lengths or shapes) is deprecated. If you meant to do this, you must specify 'dtype=object' when creating the ndarray.\n",
      "  plt.hist(np.array([training_labels, test_labels]) , 3,  histtype='bar', label=['training', 'test'])\n"
     ]
    },
    {
     "data": {
      "text/plain": [
       "<matplotlib.legend.Legend at 0x7f869e6b7940>"
      ]
     },
     "execution_count": 3,
     "metadata": {},
     "output_type": "execute_result"
    },
    {
     "data": {
      "image/png": "[encoded data removed]",
      "text/plain": [
       "<Figure size 432x288 with 1 Axes>"
      ]
     },
     "metadata": {
      "needs_background": "light"
     },
     "output_type": "display_data"
    }
   ],
   "source": [
    "plt.hist(np.array([training_labels, test_labels]) , 3,  histtype='bar', label=['training', 'test'])\n",
    "plt.legend()"
   ]
  },
  {
   "cell_type": "code",
   "execution_count": 4,
   "metadata": {},
   "outputs": [],
   "source": [
    "feature_importance = {}\n",
    "for i in np.arange(2000):\n",
    "    rf = RandomForestClassifier(n_estimators = 50, max_depth=30, criterion='entropy')\n",
    "    rf.fit(training_data, training_labels)\n",
    "    predictions = rf.predict(test_data)\n",
    "    # Collect the most important features\n",
    "    importance = pd.DataFrame({'feature': training_data.columns, 'importance': np.round(rf.feature_importances_, 3)})\n",
    "    importance.sort_values('importance', ascending=False, inplace=True)\n",
    "    importance = importance[:10]\n",
    "    # Assign values to dictionary\n",
    "    for imp in importance.values:\n",
    "        if imp[0] not in feature_importance.keys():\n",
    "            # If the key is not already there then add it\n",
    "            feature_importance[imp[0]] = [imp[1]]\n",
    "        else:\n",
    "            feature_importance[imp[0]].append(imp[1])"
   ]
  },
  {
   "cell_type": "code",
   "execution_count": 5,
   "metadata": {},
   "outputs": [],
   "source": [
    "feature_importance_df = pd.DataFrame.from_dict(feature_importance, orient='index')\n",
    "final_features = feature_importance_df.agg(['mean', 'std', 'sem'], axis=1).sort_values('mean', ascending=False)[:20]\n",
    "final_features['95-conf'] = 1.96*final_features['sem']\n",
    "final_features['99-conf'] = 3*final_features['sem']\n",
    "\n",
    "#print(final_features)"
   ]
  },
  {
   "cell_type": "code",
   "execution_count": 6,
   "metadata": {
    "scrolled": true,
    "tags": []
   },
   "outputs": [
    {
     "data": {
      "text/html": [
       "<div>\n",
       "<style scoped>\n",
       "    .dataframe tbody tr th:only-of-type {\n",
       "        vertical-align: middle;\n",
       "    }\n",
       "\n",
       "    .dataframe tbody tr th {\n",
       "        vertical-align: top;\n",
       "    }\n",
       "\n",
       "    .dataframe thead th {\n",
       "        text-align: right;\n",
       "    }\n",
       "</style>\n",
       "<table border=\"1\" class=\"dataframe\">\n",
       "  <thead>\n",
       "    <tr style=\"text-align: right;\">\n",
       "      <th></th>\n",
       "      <th>mean</th>\n",
       "      <th>std</th>\n",
       "      <th>sem</th>\n",
       "      <th>95-conf</th>\n",
       "      <th>99-conf</th>\n",
       "    </tr>\n",
       "  </thead>\n",
       "  <tbody>\n",
       "    <tr>\n",
       "      <th>tempDiffSunfitted</th>\n",
       "      <td>0.070362</td>\n",
       "      <td>0.019411</td>\n",
       "      <td>0.000435</td>\n",
       "      <td>0.000852</td>\n",
       "      <td>0.001305</td>\n",
       "    </tr>\n",
       "    <tr>\n",
       "      <th>prevAdopt</th>\n",
       "      <td>0.042084</td>\n",
       "      <td>0.012168</td>\n",
       "      <td>0.000293</td>\n",
       "      <td>0.000574</td>\n",
       "      <td>0.000878</td>\n",
       "    </tr>\n",
       "    <tr>\n",
       "      <th>casesMD</th>\n",
       "      <td>0.040689</td>\n",
       "      <td>0.011396</td>\n",
       "      <td>0.000277</td>\n",
       "      <td>0.000543</td>\n",
       "      <td>0.000831</td>\n",
       "    </tr>\n",
       "    <tr>\n",
       "      <th>nonComDis</th>\n",
       "      <td>0.039124</td>\n",
       "      <td>0.010684</td>\n",
       "      <td>0.000264</td>\n",
       "      <td>0.000517</td>\n",
       "      <td>0.000791</td>\n",
       "    </tr>\n",
       "    <tr>\n",
       "      <th>ciaArea</th>\n",
       "      <td>0.035369</td>\n",
       "      <td>0.009131</td>\n",
       "      <td>0.000248</td>\n",
       "      <td>0.000485</td>\n",
       "      <td>0.000743</td>\n",
       "    </tr>\n",
       "    <tr>\n",
       "      <th>urbanPop</th>\n",
       "      <td>0.033579</td>\n",
       "      <td>0.007814</td>\n",
       "      <td>0.000233</td>\n",
       "      <td>0.000457</td>\n",
       "      <td>0.000700</td>\n",
       "    </tr>\n",
       "    <tr>\n",
       "      <th>envMort</th>\n",
       "      <td>0.031370</td>\n",
       "      <td>0.006599</td>\n",
       "      <td>0.000226</td>\n",
       "      <td>0.000443</td>\n",
       "      <td>0.000678</td>\n",
       "    </tr>\n",
       "    <tr>\n",
       "      <th>WespHvyIndbt</th>\n",
       "      <td>0.031212</td>\n",
       "      <td>0.007179</td>\n",
       "      <td>0.000287</td>\n",
       "      <td>0.000563</td>\n",
       "      <td>0.000862</td>\n",
       "    </tr>\n",
       "    <tr>\n",
       "      <th>muslimPct</th>\n",
       "      <td>0.031171</td>\n",
       "      <td>0.006708</td>\n",
       "      <td>0.000257</td>\n",
       "      <td>0.000505</td>\n",
       "      <td>0.000772</td>\n",
       "    </tr>\n",
       "    <tr>\n",
       "      <th>inflation</th>\n",
       "      <td>0.030972</td>\n",
       "      <td>0.006789</td>\n",
       "      <td>0.000238</td>\n",
       "      <td>0.000467</td>\n",
       "      <td>0.000714</td>\n",
       "    </tr>\n",
       "    <tr>\n",
       "      <th>ciaPhonesFixed</th>\n",
       "      <td>0.030260</td>\n",
       "      <td>0.006204</td>\n",
       "      <td>0.000242</td>\n",
       "      <td>0.000474</td>\n",
       "      <td>0.000726</td>\n",
       "    </tr>\n",
       "    <tr>\n",
       "      <th>ICREGDURS</th>\n",
       "      <td>0.029406</td>\n",
       "      <td>0.005704</td>\n",
       "      <td>0.000237</td>\n",
       "      <td>0.000464</td>\n",
       "      <td>0.000710</td>\n",
       "    </tr>\n",
       "    <tr>\n",
       "      <th>christPct</th>\n",
       "      <td>0.029251</td>\n",
       "      <td>0.005295</td>\n",
       "      <td>0.000281</td>\n",
       "      <td>0.000552</td>\n",
       "      <td>0.000844</td>\n",
       "    </tr>\n",
       "    <tr>\n",
       "      <th>ciaNetMigrationRate</th>\n",
       "      <td>0.029249</td>\n",
       "      <td>0.005634</td>\n",
       "      <td>0.000266</td>\n",
       "      <td>0.000521</td>\n",
       "      <td>0.000797</td>\n",
       "    </tr>\n",
       "    <tr>\n",
       "      <th>vacCov</th>\n",
       "      <td>0.029210</td>\n",
       "      <td>0.006155</td>\n",
       "      <td>0.000290</td>\n",
       "      <td>0.000567</td>\n",
       "      <td>0.000869</td>\n",
       "    </tr>\n",
       "    <tr>\n",
       "      <th>newCases</th>\n",
       "      <td>0.029026</td>\n",
       "      <td>0.005262</td>\n",
       "      <td>0.000301</td>\n",
       "      <td>0.000591</td>\n",
       "      <td>0.000904</td>\n",
       "    </tr>\n",
       "    <tr>\n",
       "      <th>ciaGDPRealGrowthRate</th>\n",
       "      <td>0.028987</td>\n",
       "      <td>0.005466</td>\n",
       "      <td>0.000283</td>\n",
       "      <td>0.000555</td>\n",
       "      <td>0.000849</td>\n",
       "    </tr>\n",
       "    <tr>\n",
       "      <th>SGGENPARLZS</th>\n",
       "      <td>0.028415</td>\n",
       "      <td>0.005036</td>\n",
       "      <td>0.000252</td>\n",
       "      <td>0.000495</td>\n",
       "      <td>0.000757</td>\n",
       "    </tr>\n",
       "    <tr>\n",
       "      <th>ITNETUSERZS</th>\n",
       "      <td>0.028414</td>\n",
       "      <td>0.004697</td>\n",
       "      <td>0.000267</td>\n",
       "      <td>0.000524</td>\n",
       "      <td>0.000802</td>\n",
       "    </tr>\n",
       "    <tr>\n",
       "      <th>ciaGDPPerCapitaPPP</th>\n",
       "      <td>0.027920</td>\n",
       "      <td>0.004365</td>\n",
       "      <td>0.000290</td>\n",
       "      <td>0.000569</td>\n",
       "      <td>0.000871</td>\n",
       "    </tr>\n",
       "  </tbody>\n",
       "</table>\n",
       "</div>"
      ],
      "text/plain": [
       "                          mean       std       sem   95-conf   99-conf\n",
       "tempDiffSunfitted     0.070362  0.019411  0.000435  0.000852  0.001305\n",
       "prevAdopt             0.042084  0.012168  0.000293  0.000574  0.000878\n",
       "casesMD               0.040689  0.011396  0.000277  0.000543  0.000831\n",
       "nonComDis             0.039124  0.010684  0.000264  0.000517  0.000791\n",
       "ciaArea               0.035369  0.009131  0.000248  0.000485  0.000743\n",
       "urbanPop              0.033579  0.007814  0.000233  0.000457  0.000700\n",
       "envMort               0.031370  0.006599  0.000226  0.000443  0.000678\n",
       "WespHvyIndbt          0.031212  0.007179  0.000287  0.000563  0.000862\n",
       "muslimPct             0.031171  0.006708  0.000257  0.000505  0.000772\n",
       "inflation             0.030972  0.006789  0.000238  0.000467  0.000714\n",
       "ciaPhonesFixed        0.030260  0.006204  0.000242  0.000474  0.000726\n",
       "ICREGDURS             0.029406  0.005704  0.000237  0.000464  0.000710\n",
       "christPct             0.029251  0.005295  0.000281  0.000552  0.000844\n",
       "ciaNetMigrationRate   0.029249  0.005634  0.000266  0.000521  0.000797\n",
       "vacCov                0.029210  0.006155  0.000290  0.000567  0.000869\n",
       "newCases              0.029026  0.005262  0.000301  0.000591  0.000904\n",
       "ciaGDPRealGrowthRate  0.028987  0.005466  0.000283  0.000555  0.000849\n",
       "SGGENPARLZS           0.028415  0.005036  0.000252  0.000495  0.000757\n",
       "ITNETUSERZS           0.028414  0.004697  0.000267  0.000524  0.000802\n",
       "ciaGDPPerCapitaPPP    0.027920  0.004365  0.000290  0.000569  0.000871"
      ]
     },
     "execution_count": 6,
     "metadata": {},
     "output_type": "execute_result"
    }
   ],
   "source": [
    "final_features"
   ]
  },
  {
   "cell_type": "code",
   "execution_count": 7,
   "metadata": {},
   "outputs": [
    {
     "data": {
      "text/plain": [
       "Text(0, 0.5, 'Importance of Feature (%)')"
      ]
     },
     "execution_count": 7,
     "metadata": {},
     "output_type": "execute_result"
    },
    {
     "data": {
      "image/png": "[encoded data removed]",
      "text/plain": [
       "<Figure size 1440x576 with 1 Axes>"
      ]
     },
     "metadata": {
      "needs_background": "light"
     },
     "output_type": "display_data"
    }
   ],
   "source": [
    "#with plt.xkcd():\n",
    "fig = plt.figure(figsize=(20,8))\n",
    "plt.errorbar(final_features.index, 'mean', yerr='std', data=final_features, fmt='o', ms=10)\n",
    "#plt.xticks(rotation=-60)\n",
    "fig.autofmt_xdate()\n",
    "plt.xticks(fontsize=14)\n",
    "plt.yticks(fontsize=14)\n",
    "plt.xlabel('Feature Name', fontsize=25)\n",
    "plt.ylabel('Importance of Feature (%)', fontsize=25)\n",
    "#plt.savefig('Feature-Importance.png')"
   ]
  },
  {
   "cell_type": "code",
   "execution_count": 8,
   "metadata": {},
   "outputs": [
    {
     "data": {
      "text/plain": [
       "dict_keys(['tempDiffSunfitted', 'vacCov', 'casesMD', 'ICREGDURS', 'prevAdopt', 'population', 'newCases', 'urbanPop', 'ciaMedianAge', 'ciaNetMigrationRate', 'nonComDis', 'envMort', 'ciaPhonesFixed', 'gdpPerCapLn', 'inflation', 'ciaArea', 'christPct', 'firstDeath', 'ciaReservesForeignExchangeGold', 'muslimPct', 'ciaPublicDebt', 'ENATMPM25MCM3', 'ciaGDPRealGrowthRate', 'ciaDeathRate', 'ITNETUSERZS', 'ciaPhonesMobile', 'popDen', 'ciaGDPPerCapitaPPP', 'WespHvyIndbt', 'ciaElectyProduction', 'ciaRefdPetrolProdsConsump', 'ciaInfantMortalityRate', 'IPJRNARTCSC', 'ITCELSETSP2', 'ciaCarbDioxEmsCons', 'ciaInternetUsers', 'nNeighbors', 'ciaElectyHydroPlants', 'govEffInd', 'SGGENPARLZS', 'ciaPopulation', 'ciaPopGrowRate', 'ciaLifeExpectancyAtBirth', 'ciaRefPetrolProdsImports', 'matMort', 'ciaElectyConsump', 'geoDiff', 'ciaElectyFossilFuels', 'ciaInflationRateConsPrices', 'ciaBudgetSurplusDeficit', 'SHDYNMORT', 'ciaElectyOthRenew', 'ciaTaxesOtherRevenues', 'ciaElectyInstallGenCap', 'ciaObesityAdultPrevRate', 'ciaExports', 'ciaCurrentAcctBalance', 'ciaTotalFertilityRate', 'ciaBirthRate', 'comDis', 'netMigration', 'ciaElectyImports', 'ciaImports', 'firstCase', 'elect2020', 'deathsMD', 'cumDeathsLag1P100KC', 'ciaCrudeOilProvedReserves', 'ciaElectyExports', 'ciaCrudeOilExports', 'elect2020postponed'])"
      ]
     },
     "execution_count": 8,
     "metadata": {},
     "output_type": "execute_result"
    }
   ],
   "source": [
    "feature_importance.keys()"
   ]
  },
  {
   "cell_type": "code",
   "execution_count": 9,
   "metadata": {},
   "outputs": [
    {
     "name": "stdout",
     "output_type": "stream",
     "text": [
      "              precision    recall  f1-score   support\n",
      "\n",
      "        open       0.29      0.40      0.33         5\n",
      "        saho       0.57      0.44      0.50         9\n",
      "\n",
      "    accuracy                           0.43        14\n",
      "   macro avg       0.43      0.42      0.42        14\n",
      "weighted avg       0.47      0.43      0.44        14\n",
      "\n"
     ]
    }
   ],
   "source": [
    "final_used_features = list(feature_importance.keys())[:10]\n",
    "\n",
    "rf = RandomForestClassifier(n_estimators = 50, max_depth=30, criterion='entropy')\n",
    "rf.fit(training_data[final_used_features], training_labels)\n",
    "\n",
    "\n",
    "predictions = rf.predict(test_data[final_used_features])\n",
    "print(classification_report(test_labels, predictions, labels=list(set(test_labels))))"
   ]
  }
 ],
 "metadata": {
  "kernelspec": {
   "display_name": "Python 3",
   "language": "python",
   "name": "python3"
  },
  "language_info": {
   "codemirror_mode": {
    "name": "ipython",
    "version": 3
   },
   "file_extension": ".py",
   "mimetype": "text/x-python",
   "name": "python",
   "nbconvert_exporter": "python",
   "pygments_lexer": "ipython3",
   "version": "3.9.7"
  }
 },
 "nbformat": 4,
 "nbformat_minor": 4
}
