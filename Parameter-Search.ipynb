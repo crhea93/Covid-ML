{
 "cells": [
  {
   "cell_type": "markdown",
   "metadata": {},
   "source": [
    "# Parameter Search\n",
    "In this notebook, we are searching the random forest parameter space in order to optimize the values chosen"
   ]
  },
  {
   "cell_type": "code",
   "execution_count": 3,
   "metadata": {},
   "outputs": [],
   "source": [
    "import pandas as pd\n",
    "from sklearn.ensemble import RandomForestClassifier\n",
    "import numpy as np\n",
    "import matplotlib.pyplot as plt\n",
    "from sklearn.metrics import classification_report, f1_score"
   ]
  },
  {
   "cell_type": "code",
   "execution_count": 10,
   "metadata": {},
   "outputs": [],
   "source": [
    "africa = pd.read_csv('africa-ML_20-12-30.csv')\n",
    "africa = africa.dropna('columns')\n",
    "labels = africa['sahoStatusEHA']\n",
    "data = africa.drop(columns=['sahoStatusEHA', 'country', 'tempDiffS', 'christCountry', 'cumCasesLag1', 'cumCasesLag1P100KC', 'cumDeathsLag1', 'ebolaCasesN', 'gdpPerCap', 'geoDiffXdayNum', 'medDocsN']).select_dtypes(['number'])\n",
    "\n",
    "train_num = 40\n",
    "\n",
    "training_data = data[0:train_num]\n",
    "training_labels = list(labels[0:train_num])\n",
    "\n",
    "test_data = data[train_num:]\n",
    "test_labels = list(labels[train_num:])"
   ]
  },
  {
   "cell_type": "markdown",
   "metadata": {},
   "source": [
    "# Number of estimators used"
   ]
  },
  {
   "cell_type": "code",
   "execution_count": 16,
   "metadata": {},
   "outputs": [
    {
     "name": "stdout",
     "output_type": "stream",
     "text": [
      "[0.9600000000000001, 1.0, 1.0, 1.0, 1.0, 1.0, 1.0, 0.9565217391304348, 0.9565217391304348, 0.9565217391304348]\n"
     ]
    }
   ],
   "source": [
    "f1_scores = []\n",
    "for i in np.linspace(5,50,10):\n",
    "    rf = RandomForestClassifier(n_estimators = int(i), criterion='entropy')\n",
    "    rf.fit(training_data, training_labels)\n",
    "    predictions = rf.predict(test_data)\n",
    "    f1_ = f1_score(test_labels, predictions)\n",
    "    f1_scores.append(f1_)\n",
    "print(f1_scores)"
   ]
  },
  {
   "cell_type": "markdown",
   "metadata": {},
   "source": [
    "We can see that the number of estimators doesn't have much affect on the ability of the random forest classifier"
   ]
  },
  {
   "cell_type": "code",
   "execution_count": null,
   "metadata": {},
   "outputs": [],
   "source": []
  }
 ],
 "metadata": {
  "kernelspec": {
   "display_name": "Python 3",
   "language": "python",
   "name": "python3"
  },
  "language_info": {
   "codemirror_mode": {
    "name": "ipython",
    "version": 3
   },
   "file_extension": ".py",
   "mimetype": "text/x-python",
   "name": "python",
   "nbconvert_exporter": "python",
   "pygments_lexer": "ipython3",
   "version": "3.8.5"
  }
 },
 "nbformat": 4,
 "nbformat_minor": 4
}
