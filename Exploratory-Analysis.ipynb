{
 "cells": [
  {
   "cell_type": "code",
   "execution_count": 1,
   "metadata": {
    "collapsed": true
   },
   "outputs": [],
   "source": [
    "import pandas as pd\n",
    "from sklearn.ensemble import RandomForestClassifier\n",
    "import numpy as np\n",
    "import matplotlib.pyplot as plt\n",
    "from sklearn.metrics import classification_report"
   ]
  },
  {
   "cell_type": "code",
   "execution_count": 2,
   "outputs": [],
   "source": [
    "africa = pd.read_csv('africa-ML_20-12-30.csv')\n",
    "#africa\n",
    "##%"
   ],
   "metadata": {
    "collapsed": false,
    "pycharm": {
     "name": "#%%\n"
    }
   }
  },
  {
   "cell_type": "code",
   "execution_count": 3,
   "outputs": [
    {
     "data": {
      "text/plain": "Index(['country', 'dayNum', 'ENATMPM25MCM3', 'ICREGDURS', 'IPJRNARTCSC',\n       'ITCELSETSP2', 'ITNETUSERZS', 'SGGENPARLZS', 'SHDYNMORT', 'casesMD',\n       'christCountry', 'christPct', 'colLeg_n2', 'comDis', 'cumCasesLag1',\n       'cumCasesLag1P100KC', 'cumDeathsLag1', 'cumDeathsLag1P100KC',\n       'deathsMD', 'ebolaCasesDum', 'ebolaCasesN', 'envMort', 'firstCase',\n       'firstDeath', 'gdpPerCap', 'gdpPerCapLn', 'geoDiff', 'geoDiffXdayNum',\n       'govEffInd', 'idaEligible', 'inflation', 'matMort', 'medDocsN',\n       'muslimCountry', 'muslimPct', 'nNeighbors', 'netMigration', 'newCases',\n       'newDeaths', 'nonComDis', 'popDen', 'population', 'regEff',\n       'regTypeFH_n', 'sahoStatusEHA', 'tempDiffS', 'urbanPop', 'vacCov'],\n      dtype='object')"
     },
     "execution_count": 3,
     "metadata": {},
     "output_type": "execute_result"
    }
   ],
   "source": [
    "africa = africa.dropna('columns')\n",
    "africa.columns"
   ],
   "metadata": {
    "collapsed": false,
    "pycharm": {
     "name": "#%%\n"
    }
   }
  },
  {
   "cell_type": "code",
   "execution_count": 4,
   "outputs": [],
   "source": [
    "labels = africa['sahoStatusEHA']\n",
    "data = africa.drop(columns=['sahoStatusEHA', 'country']).select_dtypes(['number'])\n",
    "\n",
    "train_num = 40\n",
    "\n",
    "training_data = data[0:train_num]\n",
    "training_labels = list(labels[0:train_num])\n",
    "\n",
    "test_data = data[train_num:]\n",
    "test_labels = list(labels[train_num:])"
   ],
   "metadata": {
    "collapsed": false,
    "pycharm": {
     "name": "#%%\n"
    }
   }
  },
  {
   "cell_type": "code",
   "execution_count": 9,
   "outputs": [],
   "source": [
    "rf = RandomForestClassifier(n_estimators = 20, random_state = 42, criterion='entropy')\n",
    "rf.fit(training_data, training_labels);\n"
   ],
   "metadata": {
    "collapsed": false,
    "pycharm": {
     "name": "#%%\n"
    }
   }
  },
  {
   "cell_type": "code",
   "execution_count": 10,
   "outputs": [
    {
     "name": "stdout",
     "output_type": "stream",
     "text": [
      "              precision    recall  f1-score   support\n",
      "\n",
      "           0       1.00      1.00      1.00         2\n",
      "           1       1.00      1.00      1.00        12\n",
      "\n",
      "    accuracy                           1.00        14\n",
      "   macro avg       1.00      1.00      1.00        14\n",
      "weighted avg       1.00      1.00      1.00        14\n",
      "\n"
     ]
    }
   ],
   "source": [
    "predictions = rf.predict(test_data)\n",
    "\n",
    "print(classification_report(test_labels, predictions, labels=list(set(test_labels))))"
   ],
   "metadata": {
    "collapsed": false,
    "pycharm": {
     "name": "#%%\n"
    }
   }
  },
  {
   "cell_type": "code",
   "execution_count": 11,
   "outputs": [
    {
     "name": "stderr",
     "output_type": "stream",
     "text": [
      "<ipython-input-11-6870afa01d80>:1: VisibleDeprecationWarning: Creating an ndarray from ragged nested sequences (which is a list-or-tuple of lists-or-tuples-or ndarrays with different lengths or shapes) is deprecated. If you meant to do this, you must specify 'dtype=object' when creating the ndarray\n",
      "  plt.hist(np.array([training_labels, test_labels]) , 10, density=True, histtype='bar', label=['training', 'test'])\n"
     ]
    },
    {
     "data": {
      "text/plain": "<matplotlib.legend.Legend at 0x7f6b2f5d1610>"
     },
     "execution_count": 11,
     "metadata": {},
     "output_type": "execute_result"
    },
    {
     "data": {
      "text/plain": "<Figure size 432x288 with 1 Axes>",
      "image/png": "[encoded data removed]"
     },
     "metadata": {
      "needs_background": "light"
     },
     "output_type": "display_data"
    }
   ],
   "source": [
    "plt.hist(np.array([training_labels, test_labels]) , 10, density=True, histtype='bar', label=['training', 'test'])\n",
    "plt.legend()"
   ],
   "metadata": {
    "collapsed": false,
    "pycharm": {
     "name": "#%% DATA STATS\n"
    }
   }
  },
  {
   "cell_type": "code",
   "execution_count": 12,
   "outputs": [
    {
     "data": {
      "text/plain": "                feature  importance\n40            tempDiffS       0.243\n13   cumCasesLag1P100KC       0.155\n25       geoDiffXdayNum       0.084\n15  cumDeathsLag1P100KC       0.083\n8               casesMD       0.069\n0                dayNum       0.067\n12         cumCasesLag1       0.050\n16             deathsMD       0.043\n24              geoDiff       0.042\n14        cumDeathsLag1       0.040\n5           ITNETUSERZS       0.026\n32            muslimPct       0.018\n19              envMort       0.016\n42               vacCov       0.016\n6           SGGENPARLZS       0.014\n36            newDeaths       0.012\n26            govEffInd       0.008\n20            firstCase       0.007\n10            christPct       0.007\n11               comDis       0.000\n31        muslimCountry       0.000\n41             urbanPop       0.000\n2             ICREGDURS       0.000\n39           population       0.000\n38               popDen       0.000\n37            nonComDis       0.000\n35             newCases       0.000\n34         netMigration       0.000\n33           nNeighbors       0.000\n3           IPJRNARTCSC       0.000\n28            inflation       0.000\n30             medDocsN       0.000\n29              matMort       0.000\n27          idaEligible       0.000\n4           ITCELSETSP2       0.000\n23          gdpPerCapLn       0.000\n22            gdpPerCap       0.000\n1         ENATMPM25MCM3       0.000\n7             SHDYNMORT       0.000\n18          ebolaCasesN       0.000\n17        ebolaCasesDum       0.000\n9         christCountry       0.000\n21           firstDeath       0.000",
      "text/html": "<div>\n<style scoped>\n    .dataframe tbody tr th:only-of-type {\n        vertical-align: middle;\n    }\n\n    .dataframe tbody tr th {\n        vertical-align: top;\n    }\n\n    .dataframe thead th {\n        text-align: right;\n    }\n</style>\n<table border=\"1\" class=\"dataframe\">\n  <thead>\n    <tr style=\"text-align: right;\">\n      <th></th>\n      <th>feature</th>\n      <th>importance</th>\n    </tr>\n  </thead>\n  <tbody>\n    <tr>\n      <th>40</th>\n      <td>tempDiffS</td>\n      <td>0.243</td>\n    </tr>\n    <tr>\n      <th>13</th>\n      <td>cumCasesLag1P100KC</td>\n      <td>0.155</td>\n    </tr>\n    <tr>\n      <th>25</th>\n      <td>geoDiffXdayNum</td>\n      <td>0.084</td>\n    </tr>\n    <tr>\n      <th>15</th>\n      <td>cumDeathsLag1P100KC</td>\n      <td>0.083</td>\n    </tr>\n    <tr>\n      <th>8</th>\n      <td>casesMD</td>\n      <td>0.069</td>\n    </tr>\n    <tr>\n      <th>0</th>\n      <td>dayNum</td>\n      <td>0.067</td>\n    </tr>\n    <tr>\n      <th>12</th>\n      <td>cumCasesLag1</td>\n      <td>0.050</td>\n    </tr>\n    <tr>\n      <th>16</th>\n      <td>deathsMD</td>\n      <td>0.043</td>\n    </tr>\n    <tr>\n      <th>24</th>\n      <td>geoDiff</td>\n      <td>0.042</td>\n    </tr>\n    <tr>\n      <th>14</th>\n      <td>cumDeathsLag1</td>\n      <td>0.040</td>\n    </tr>\n    <tr>\n      <th>5</th>\n      <td>ITNETUSERZS</td>\n      <td>0.026</td>\n    </tr>\n    <tr>\n      <th>32</th>\n      <td>muslimPct</td>\n      <td>0.018</td>\n    </tr>\n    <tr>\n      <th>19</th>\n      <td>envMort</td>\n      <td>0.016</td>\n    </tr>\n    <tr>\n      <th>42</th>\n      <td>vacCov</td>\n      <td>0.016</td>\n    </tr>\n    <tr>\n      <th>6</th>\n      <td>SGGENPARLZS</td>\n      <td>0.014</td>\n    </tr>\n    <tr>\n      <th>36</th>\n      <td>newDeaths</td>\n      <td>0.012</td>\n    </tr>\n    <tr>\n      <th>26</th>\n      <td>govEffInd</td>\n      <td>0.008</td>\n    </tr>\n    <tr>\n      <th>20</th>\n      <td>firstCase</td>\n      <td>0.007</td>\n    </tr>\n    <tr>\n      <th>10</th>\n      <td>christPct</td>\n      <td>0.007</td>\n    </tr>\n    <tr>\n      <th>11</th>\n      <td>comDis</td>\n      <td>0.000</td>\n    </tr>\n    <tr>\n      <th>31</th>\n      <td>muslimCountry</td>\n      <td>0.000</td>\n    </tr>\n    <tr>\n      <th>41</th>\n      <td>urbanPop</td>\n      <td>0.000</td>\n    </tr>\n    <tr>\n      <th>2</th>\n      <td>ICREGDURS</td>\n      <td>0.000</td>\n    </tr>\n    <tr>\n      <th>39</th>\n      <td>population</td>\n      <td>0.000</td>\n    </tr>\n    <tr>\n      <th>38</th>\n      <td>popDen</td>\n      <td>0.000</td>\n    </tr>\n    <tr>\n      <th>37</th>\n      <td>nonComDis</td>\n      <td>0.000</td>\n    </tr>\n    <tr>\n      <th>35</th>\n      <td>newCases</td>\n      <td>0.000</td>\n    </tr>\n    <tr>\n      <th>34</th>\n      <td>netMigration</td>\n      <td>0.000</td>\n    </tr>\n    <tr>\n      <th>33</th>\n      <td>nNeighbors</td>\n      <td>0.000</td>\n    </tr>\n    <tr>\n      <th>3</th>\n      <td>IPJRNARTCSC</td>\n      <td>0.000</td>\n    </tr>\n    <tr>\n      <th>28</th>\n      <td>inflation</td>\n      <td>0.000</td>\n    </tr>\n    <tr>\n      <th>30</th>\n      <td>medDocsN</td>\n      <td>0.000</td>\n    </tr>\n    <tr>\n      <th>29</th>\n      <td>matMort</td>\n      <td>0.000</td>\n    </tr>\n    <tr>\n      <th>27</th>\n      <td>idaEligible</td>\n      <td>0.000</td>\n    </tr>\n    <tr>\n      <th>4</th>\n      <td>ITCELSETSP2</td>\n      <td>0.000</td>\n    </tr>\n    <tr>\n      <th>23</th>\n      <td>gdpPerCapLn</td>\n      <td>0.000</td>\n    </tr>\n    <tr>\n      <th>22</th>\n      <td>gdpPerCap</td>\n      <td>0.000</td>\n    </tr>\n    <tr>\n      <th>1</th>\n      <td>ENATMPM25MCM3</td>\n      <td>0.000</td>\n    </tr>\n    <tr>\n      <th>7</th>\n      <td>SHDYNMORT</td>\n      <td>0.000</td>\n    </tr>\n    <tr>\n      <th>18</th>\n      <td>ebolaCasesN</td>\n      <td>0.000</td>\n    </tr>\n    <tr>\n      <th>17</th>\n      <td>ebolaCasesDum</td>\n      <td>0.000</td>\n    </tr>\n    <tr>\n      <th>9</th>\n      <td>christCountry</td>\n      <td>0.000</td>\n    </tr>\n    <tr>\n      <th>21</th>\n      <td>firstDeath</td>\n      <td>0.000</td>\n    </tr>\n  </tbody>\n</table>\n</div>"
     },
     "execution_count": 12,
     "metadata": {},
     "output_type": "execute_result"
    }
   ],
   "source": [
    "importance = pd.DataFrame({'feature': training_data.columns, 'importance': np.round(rf.feature_importances_, 3)})\n",
    "importance.sort_values('importance', ascending=False, inplace=True)\n",
    "importance"
   ],
   "metadata": {
    "collapsed": false,
    "pycharm": {
     "name": "#%% Feature importance\n"
    }
   }
  },
  {
   "cell_type": "code",
   "execution_count": null,
   "outputs": [],
   "source": [],
   "metadata": {
    "collapsed": false,
    "pycharm": {
     "name": "#%%\n"
    }
   }
  }
 ],
 "metadata": {
  "kernelspec": {
   "display_name": "Python 3",
   "language": "python",
   "name": "python3"
  },
  "language_info": {
   "codemirror_mode": {
    "name": "ipython",
    "version": 2
   },
   "file_extension": ".py",
   "mimetype": "text/x-python",
   "name": "python",
   "nbconvert_exporter": "python",
   "pygments_lexer": "ipython2",
   "version": "2.7.6"
  }
 },
 "nbformat": 4,
 "nbformat_minor": 0
}