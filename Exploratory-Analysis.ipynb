{
 "cells": [
  {
   "cell_type": "code",
   "execution_count": 1,
   "metadata": {
    "collapsed": true
   },
   "outputs": [],
   "source": [
    "import pandas as pd\n",
    "from sklearn.ensemble import RandomForestClassifier\n",
    "import numpy as np\n",
    "import matplotlib.pyplot as plt\n",
    "from sklearn.metrics import classification_report"
   ]
  },
  {
   "cell_type": "code",
   "execution_count": 2,
   "outputs": [],
   "source": [
    "africa = pd.read_csv('africa-ML_20-12-30.csv')\n",
    "#africa\n",
    "##%"
   ],
   "metadata": {
    "collapsed": false,
    "pycharm": {
     "name": "#%%\n"
    }
   }
  },
  {
   "cell_type": "code",
   "execution_count": 4,
   "outputs": [
    {
     "data": {
      "text/plain": "Index(['country', 'dayNum', 'ENATMPM25MCM3', 'ICREGDURS', 'IPJRNARTCSC',\n       'ITCELSETSP2', 'ITNETUSERZS', 'SGGENPARLZS', 'SHDYNMORT', 'casesMD',\n       'christCountry', 'christPct', 'colLeg_n2', 'comDis', 'cumCasesLag1',\n       'cumCasesLag1P100KC', 'cumDeathsLag1', 'cumDeathsLag1P100KC',\n       'deathsMD', 'ebolaCasesDum', 'ebolaCasesN', 'envMort', 'firstCase',\n       'firstDeath', 'gdpPerCap', 'gdpPerCapLn', 'geoDiff', 'geoDiffXdayNum',\n       'govEffInd', 'idaEligible', 'inflation', 'matMort', 'medDocsN',\n       'muslimCountry', 'muslimPct', 'nNeighbors', 'netMigration', 'newCases',\n       'newDeaths', 'nonComDis', 'popDen', 'population', 'regEff',\n       'regTypeFH_n', 'sahoStatusEHA', 'tempDiffS', 'urbanPop', 'vacCov'],\n      dtype='object')"
     },
     "execution_count": 4,
     "metadata": {},
     "output_type": "execute_result"
    }
   ],
   "source": [
    "africa = africa.dropna('columns')\n",
    "africa.columns"
   ],
   "metadata": {
    "collapsed": false,
    "pycharm": {
     "name": "#%%\n"
    }
   }
  },
  {
   "cell_type": "code",
   "execution_count": 5,
   "outputs": [],
   "source": [
    "labels = africa['sahoStatusEHA']\n",
    "data = africa.drop(columns=['sahoStatusEHA', 'country']).select_dtypes(['number'])\n",
    "\n",
    "train_num = 50\n",
    "\n",
    "training_data = data[0:train_num]\n",
    "training_labels = list(labels[0:train_num])\n",
    "\n",
    "test_data = data[train_num:]\n",
    "test_labels = list(labels[train_num:])"
   ],
   "metadata": {
    "collapsed": false,
    "pycharm": {
     "name": "#%%\n"
    }
   }
  },
  {
   "cell_type": "code",
   "execution_count": 6,
   "outputs": [],
   "source": [
    "rf = RandomForestClassifier(n_estimators = 50, random_state = 42)\n",
    "rf.fit(training_data, training_labels);\n"
   ],
   "metadata": {
    "collapsed": false,
    "pycharm": {
     "name": "#%%\n"
    }
   }
  },
  {
   "cell_type": "code",
   "execution_count": 7,
   "outputs": [
    {
     "name": "stdout",
     "output_type": "stream",
     "text": [
      "              precision    recall  f1-score   support\n",
      "\n",
      "           1       1.00      1.00      1.00         4\n",
      "\n",
      "    accuracy                           1.00         4\n",
      "   macro avg       1.00      1.00      1.00         4\n",
      "weighted avg       1.00      1.00      1.00         4\n",
      "\n"
     ]
    }
   ],
   "source": [
    "predictions = rf.predict(test_data)\n",
    "\n",
    "print(classification_report(test_labels, predictions, labels=list(set(test_labels))))"
   ],
   "metadata": {
    "collapsed": false,
    "pycharm": {
     "name": "#%%\n"
    }
   }
  },
  {
   "cell_type": "code",
   "execution_count": 8,
   "outputs": [
    {
     "name": "stderr",
     "output_type": "stream",
     "text": [
      "<ipython-input-8-6870afa01d80>:1: VisibleDeprecationWarning: Creating an ndarray from ragged nested sequences (which is a list-or-tuple of lists-or-tuples-or ndarrays with different lengths or shapes) is deprecated. If you meant to do this, you must specify 'dtype=object' when creating the ndarray\n",
      "  plt.hist(np.array([training_labels, test_labels]) , 10, density=True, histtype='bar', label=['training', 'test'])\n"
     ]
    },
    {
     "data": {
      "text/plain": "<matplotlib.legend.Legend at 0x7f82256c5490>"
     },
     "execution_count": 8,
     "metadata": {},
     "output_type": "execute_result"
    },
    {
     "data": {
      "text/plain": "<Figure size 432x288 with 1 Axes>",
      "image/png": "[encoded data removed]"
     },
     "metadata": {
      "needs_background": "light"
     },
     "output_type": "display_data"
    }
   ],
   "source": [
    "plt.hist(np.array([training_labels, test_labels]) , 10, density=True, histtype='bar', label=['training', 'test'])\n",
    "plt.legend()"
   ],
   "metadata": {
    "collapsed": false,
    "pycharm": {
     "name": "#%% DATA STATS\n"
    }
   }
  },
  {
   "cell_type": "code",
   "execution_count": 9,
   "outputs": [
    {
     "data": {
      "text/plain": "[1]"
     },
     "execution_count": 9,
     "metadata": {},
     "output_type": "execute_result"
    }
   ],
   "source": [
    "list(set(test_labels))"
   ],
   "metadata": {
    "collapsed": false,
    "pycharm": {
     "name": "#%%\n"
    }
   }
  },
  {
   "cell_type": "code",
   "execution_count": null,
   "outputs": [],
   "source": [],
   "metadata": {
    "collapsed": false,
    "pycharm": {
     "name": "#%%\n"
    }
   }
  }
 ],
 "metadata": {
  "kernelspec": {
   "display_name": "Python 3",
   "language": "python",
   "name": "python3"
  },
  "language_info": {
   "codemirror_mode": {
    "name": "ipython",
    "version": 2
   },
   "file_extension": ".py",
   "mimetype": "text/x-python",
   "name": "python",
   "nbconvert_exporter": "python",
   "pygments_lexer": "ipython2",
   "version": "2.7.6"
  }
 },
 "nbformat": 4,
 "nbformat_minor": 0
}